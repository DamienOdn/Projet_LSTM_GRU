{
  "cells": [
    {
      "cell_type": "code",
      "execution_count": 42,
      "metadata": {
        "id": "LyfkuuReCNWr"
      },
      "outputs": [],
      "source": [
        "\n",
        "import pandas as pd\n",
        "import torch\n",
        "import torch.nn as nn\n",
        "import numpy as np\n",
        "from matplotlib import pyplot as plt\n",
        "from sklearn.preprocessing import MinMaxScaler\n",
        "from sklearn.preprocessing import StandardScaler\n"
      ]
    },
    {
      "cell_type": "code",
      "execution_count": 11,
      "metadata": {
        "colab": {
          "base_uri": "https://localhost:8080/"
        },
        "collapsed": true,
        "id": "F0OGgJyYGFeD",
        "outputId": "6aaa12a7-9c39-4c20-c4e6-15f21741fc58"
      },
      "outputs": [
        {
          "name": "stderr",
          "output_type": "stream",
          "text": [
            "C:\\Users\\Frostens\\AppData\\Local\\Temp\\ipykernel_7760\\4019440811.py:2: DtypeWarning: Columns (2,3,4,5,6,7) have mixed types. Specify dtype option on import or set low_memory=False.\n",
            "  dataset = pd.read_csv('household_power_consumption.txt', sep=';')\n"
          ]
        }
      ],
      "source": [
        "# Date; Time; Global_active_power; Global_reactive_power; Voltage; Global_intensity; Sub_metering_1; Sub_metering_2; Sub_metering_3\n",
        "dataset = pd.read_csv('household_power_consumption.txt', sep=';')\n",
        "# summarize\n",
        "#print(dataset.shape)\n",
        "#print(dataset.head())\n",
        "\n",
        "dataset.replace('?', np.nan, inplace=True)\n",
        "# save updated dataset\n",
        "dataset.to_csv('household_power_consumption.csv')\n"
      ]
    },
    {
      "cell_type": "code",
      "execution_count": null,
      "metadata": {
        "colab": {
          "base_uri": "https://localhost:8080/",
          "height": 485
        },
        "collapsed": true,
        "id": "AypYRLlbJ0G9",
        "outputId": "ddd6f16f-12b0-429b-8ddb-c319793d45f4"
      },
      "outputs": [],
      "source": [
        "# load the new file\n",
        "dataset = pd.read_csv('household_power_consumption.csv', header=0, infer_datetime_format=True, parse_dates=['datetime'], index_col=['datetime'])\n",
        "# line plot for each variable\n",
        "plt.figure()\n",
        "for i in range(len(dataset.columns)):\n",
        "\tplt.subplot(len(dataset.columns), 1, i+1)\n",
        "\tname = dataset.columns[i]\n",
        "\tplt.plot(dataset[name])\n",
        "\tplt.title(name, y=0)\n",
        "plt.show()"
      ]
    },
    {
      "cell_type": "code",
      "execution_count": null,
      "metadata": {
        "colab": {
          "base_uri": "https://localhost:8080/",
          "height": 485
        },
        "collapsed": true,
        "id": "ipma85FSLKHn",
        "outputId": "5d36566f-c483-4d05-edfa-36b027c82f6a"
      },
      "outputs": [],
      "source": [
        "# load the new file\n",
        "dataset = pd.read_csv('household_power_consumption.csv', header=0, infer_datetime_format=True, parse_dates=['datetime'], index_col=['datetime'])\n",
        "# plot active power for each year\n",
        "years = ['2007', '2008', '2009', '2010']\n",
        "plt.figure()\n",
        "for i in range(len(years)):\n",
        "\t# prepare subplot\n",
        "\tax = plt.subplot(len(years), 1, i+1)\n",
        "\t# determine the year to plot\n",
        "\tyear = years[i]\n",
        "\t# get all observations for the year\n",
        "\tresult = dataset.loc[dataset.index.year == int(year)]\n",
        "\t# plot the active power for the year\n",
        "\tplt.plot(result['Global_active_power'])\n",
        "\t# add a title to the subplot\n",
        "\tplt.title(str(year), y=0, loc='left')\n",
        "plt.show()"
      ]
    },
    {
      "cell_type": "code",
      "execution_count": null,
      "metadata": {
        "colab": {
          "base_uri": "https://localhost:8080/",
          "height": 485
        },
        "collapsed": true,
        "id": "LzRt1DFNMEMr",
        "outputId": "f98b8654-7a51-4c8a-e1d6-79ab20dd74ca"
      },
      "outputs": [],
      "source": [
        "# load the new file\n",
        "dataset = pd.read_csv('household_power_consumption.csv', header=0, infer_datetime_format=True, parse_dates=['datetime'], index_col=['datetime'])\n",
        "# plot active power for each year\n",
        "months = [x for x in range(1, 13)]\n",
        "plt.figure()\n",
        "for i in range(len(months)):\n",
        "\t# prepare subplot\n",
        "\tax = plt.subplot(len(months), 1, i+1)\n",
        "\t# determine the month to plot\n",
        "\tmonth = months[i]\n",
        "\t# get all observations for the month\n",
        "\tresult = dataset[(dataset.index.month == month) & (dataset.index.year == 2007)]\n",
        "\t# plot the active power for the month\n",
        "\tplt.plot(result['Global_active_power'])\n",
        "\t# add a title to the subplot\n",
        "\tplt.title(month, y=0, loc='left')\n",
        "plt.show()"
      ]
    },
    {
      "cell_type": "code",
      "execution_count": null,
      "metadata": {
        "colab": {
          "base_uri": "https://localhost:8080/",
          "height": 497
        },
        "collapsed": true,
        "id": "nxlCTJfGNC6M",
        "outputId": "dd111a22-9b03-4ad9-833f-1e706225bc3b"
      },
      "outputs": [],
      "source": [
        "# load the new file\n",
        "dataset = pd.read_csv('household_power_consumption.csv', header=0, infer_datetime_format=True, parse_dates=['datetime'], index_col=['datetime'])\n",
        "# plot active power for each year\n",
        "days = [x for x in range(1, 32)]\n",
        "plt.figure()\n",
        "for i in range(len(days)):\n",
        "\t# prepare subplot\n",
        "\tax = plt.subplot(len(days), 1, i+1)\n",
        "\t# determine the day to plot\n",
        "\tday = days[i]\n",
        "\t# get all observations for the day\n",
        "\tresult = dataset[(dataset.index.day == day) & (dataset.index.month == 1) & (dataset.index.year == 2007)]\n",
        "\t# plot the active power for the day\n",
        "\tplt.plot(result['Global_active_power'])\n",
        "\t# add a title to the subplot\n",
        "\tplt.title(day, y=0, loc='left')\n",
        "plt.show()"
      ]
    },
    {
      "cell_type": "code",
      "execution_count": null,
      "metadata": {
        "colab": {
          "base_uri": "https://localhost:8080/",
          "height": 485
        },
        "collapsed": true,
        "id": "DVq-jwidN-_j",
        "outputId": "289dcb9f-5acb-4436-9076-e0148700192c"
      },
      "outputs": [],
      "source": [
        "# load the new file\n",
        "dataset = pd.read_csv('household_power_consumption.csv', header=0, infer_datetime_format=True, parse_dates=['datetime'], index_col=['datetime'])\n",
        "# histogram plot for each variable\n",
        "plt.figure()\n",
        "for i in range(len(dataset.columns)):\n",
        "\tplt.subplot(len(dataset.columns), 1, i+1)\n",
        "\tname = dataset.columns[i]\n",
        "\tdataset[name].hist(bins=100)\n",
        "\tplt.title(name, y=0)\n",
        "plt.show()"
      ]
    },
    {
      "cell_type": "code",
      "execution_count": null,
      "metadata": {
        "colab": {
          "base_uri": "https://localhost:8080/",
          "height": 485
        },
        "collapsed": true,
        "id": "l_kZFximOk3D",
        "outputId": "51623d00-a2ab-47c4-8c09-f2376e7fcb9a"
      },
      "outputs": [],
      "source": [
        "# load the new file\n",
        "dataset = pd.read_csv('household_power_consumption.csv', header=0, infer_datetime_format=True, parse_dates=['datetime'], index_col=['datetime'])\n",
        "# plot active power for each year\n",
        "years = [2007, 2008, 2009, 2010]\n",
        "plt.figure()\n",
        "for i in range(len(years)):\n",
        "\t# prepare subplot\n",
        "\tax = plt.subplot(len(years), 1, i+1)\n",
        "\t# determine the year to plot\n",
        "\tyear = years[i]\n",
        "\t# get all observations for the year\n",
        "\tresult = dataset[dataset.index.year == year]\n",
        "\t# plot the active power for the year\n",
        "\tresult['Global_active_power'].hist(bins=100)\n",
        "\t# zoom in on the distribution\n",
        "\tax.set_xlim(0, 5)\n",
        "\t# add a title to the subplot\n",
        "\tplt.title(str(year), y=0, loc='right')\n",
        "plt.show()"
      ]
    },
    {
      "cell_type": "code",
      "execution_count": null,
      "metadata": {
        "id": "66DuGlQFRjH_"
      },
      "outputs": [],
      "source": [
        "# Charger les données\n",
        "data = pd.read_csv(\"household_power_consumption.csv\", parse_dates=[\"datetime\"], index_col=\"datetime\")\n",
        "\n",
        "# Afficher un aperçu\n",
        "\n",
        "# Différenciation journalière (1440 minutes par jour)\n",
        "data[\"Daily_diff\"] = data[\"Global_active_power\"].diff(1440)\n",
        "\n",
        "# Différenciation annuelle (525600 minutes par an)\n",
        "data[\"Annual_diff\"] = data[\"Global_active_power\"].diff(525600)\n",
        "\n",
        "data[\"Daily_diff\"].fillna(0, inplace=True)\n",
        "data[\"Annual_diff\"].fillna(0, inplace=True)\n",
        "\n",
        "\n",
        "# Normaliser les colonnes sélectionnées\n",
        "scaler = MinMaxScaler()\n",
        "scaled_data = scaler.fit_transform(data[[\"Global_active_power\", \"Voltage\", \"Global_intensity\"]])\n",
        "\n",
        "# Ajouter les colonnes normalisées au DataFrame\n",
        "data[[\"Global_active_power_norm\", \"Voltage_norm\", \"Global_intensity_norm\"]] = scaled_data\n",
        "\n",
        "data[\"hour\"] = data.index.hour\n",
        "data[\"day_of_week\"] = data.index.dayofweek\n",
        "data[\"month\"] = data.index.month\n",
        "\n",
        "# Exemple : Total des sous-comptages\n",
        "data[\"sub_metering_total\"] = (\n",
        "    data[\"Sub_metering_1\"]\n",
        "    + data[\"Sub_metering_2\"]\n",
        "    + data[\"Sub_metering_3\"]\n",
        "    + data[\"sub_metering_4\"]\n",
        ")\n",
        "\n",
        "# Sélection des colonnes pertinentes\n",
        "final_data = data[[\"Global_active_power\", \"Daily_diff\", \"Voltage_norm\", \"hour\", \"day_of_week\"]]\n",
        "\n",
        "print(final_data[[\"Global_active_power\", \"Daily_diff\", \"Voltage_norm\", \"hour\", \"day_of_week\"]].head(1500))"
      ]
    },
    {
      "cell_type": "code",
      "execution_count": 23,
      "metadata": {},
      "outputs": [
        {
          "name": "stdout",
          "output_type": "stream",
          "text": [
            "Première ligne du fichier : Date;Time;Global_active_power;Global_reactive_power;Voltage;Global_intensity;Sub_metering_1;Sub_metering_2;Sub_metering_3\n",
            "\n"
          ]
        }
      ],
      "source": [
        "with open(\"household_power_consumption.txt\", \"r\", encoding=\"utf-8\") as f:\n",
        "    first_line = f.readline()\n",
        "    print(f\"Première ligne du fichier : {first_line}\")\n"
      ]
    },
    {
      "cell_type": "code",
      "execution_count": 44,
      "metadata": {},
      "outputs": [
        {
          "name": "stderr",
          "output_type": "stream",
          "text": [
            "C:\\Users\\Frostens\\AppData\\Local\\Temp\\ipykernel_7760\\2392735449.py:2: FutureWarning: Support for nested sequences for 'parse_dates' in pd.read_csv is deprecated. Combine the desired columns with pd.to_datetime after parsing instead.\n",
            "  df = pd.read_csv('household_power_consumption.txt', sep=';', na_values=['?'], parse_dates=[[0, 1]], dayfirst=True)\n"
          ]
        },
        {
          "name": "stdout",
          "output_type": "stream",
          "text": [
            "Taille du jeu d'entraînement : (27650, 13)\n",
            "Taille du jeu de test : (6913, 13)\n"
          ]
        }
      ],
      "source": [
        "# Date; Time; Global_active_power; Global_reactive_power; Voltage; Global_intensity; Sub_metering_1; Sub_metering_2; Sub_metering_3\n",
        "df = pd.read_csv('household_power_consumption.txt', sep=';', na_values=['?'], parse_dates=[[0, 1]], dayfirst=True)\n",
        "df.rename(columns={'Date_Time': 'datetime'}, inplace=True)\n",
        "df.set_index('datetime', inplace=True)\n",
        "#print(\"Aperçu après conversion datetime :\")\n",
        "#print(df.head())\n",
        "\n",
        "df_hourly = df.resample('h').mean()\n",
        "\n",
        "#print(\"\\nDonnées agrégées par heure :\")\n",
        "#print(df_hourly.head())\n",
        "df_hourly.interpolate(method='time', inplace=True)\n",
        "\n",
        "df_hourly['hour'] = df_hourly.index.hour\n",
        "df_hourly['day_of_week'] = df_hourly.index.dayofweek  # 0 = lundi, 6 = dimanche\n",
        "df_hourly['day'] = df_hourly.index.day\n",
        "df_hourly['month'] = df_hourly.index.month\n",
        "\n",
        "df_hourly['lag1_Global_active_power'] = df_hourly['Global_active_power'].shift(1)\n",
        "df_hourly['lag2_Global_active_power'] = df_hourly['Global_active_power'].shift(2)\n",
        "\n",
        "df_hourly.dropna(inplace=True)\n",
        "\n",
        "df_hourly['target'] = df_hourly['Global_active_power'].shift(-24)\n",
        "df_hourly.dropna(inplace=True)\n",
        "\n",
        "features = [\n",
        "    'Global_active_power', 'Global_reactive_power', 'Voltage', \n",
        "    'Global_intensity', 'Sub_metering_1', 'Sub_metering_2', 'Sub_metering_3', \n",
        "    'lag1_Global_active_power', 'lag2_Global_active_power', \n",
        "    'hour', 'day_of_week', 'day', 'month'\n",
        "]\n",
        "\n",
        "X = df_hourly[features]\n",
        "y = df_hourly['target']\n",
        "\n",
        "split_index = int(len(df_hourly) * 0.8)\n",
        "X_train, X_test = X.iloc[:split_index], X.iloc[split_index:]\n",
        "y_train, y_test = y.iloc[:split_index], y.iloc[split_index:]\n",
        "\n",
        "print(f\"Taille du jeu d'entraînement : {X_train.shape}\")\n",
        "print(f\"Taille du jeu de test : {X_test.shape}\")\n",
        "\n"
      ]
    },
    {
      "cell_type": "code",
      "execution_count": null,
      "metadata": {},
      "outputs": [],
      "source": [
        "# PARAMETERS\n",
        "\n",
        "# length of sliding window\n",
        "features = 240\n",
        "# length of test dataset\n",
        "test_ts_len = 300\n",
        "# size of LSTM hidden state\n",
        "lstm_hidden_size = 24\n",
        "# Optimizer learning rate\n",
        "learning_rate = 0.02\n",
        "\n",
        "training_epochs = 100"
      ]
    },
    {
      "cell_type": "code",
      "execution_count": null,
      "metadata": {
        "id": "xJYihMF760Dq"
      },
      "outputs": [],
      "source": [
        "def sliding_window(ts, features):\n",
        "    X = []\n",
        "    Y = []\n",
        "\n",
        "    for i in range(features + 1, len(ts) + 1):\n",
        "        X.append(ts[i - (features + 1):i - 1])\n",
        "        Y.append([ts[i - 1]])\n",
        "\n",
        "    return X, Y\n",
        "\n",
        "\n",
        "def get_training_datasets(ts, features, test_len):\n",
        "    X, Y = sliding_window(ts, features)\n",
        "\n",
        "    X_train, Y_train, X_test, Y_test = X[0:-test_len],\\\n",
        "                                       Y[0:-test_len],\\\n",
        "                                       X[-test_len:],\\\n",
        "                                       Y[-test_len:]\n",
        "\n",
        "    train_len = round(len(ts) * 0.7)\n",
        "\n",
        "    X_train, X_val, Y_train, Y_val = X_train[0:train_len],\\\n",
        "                                     X_train[train_len:],\\\n",
        "                                     Y_train[0:train_len],\\\n",
        "                                     Y_train[train_len:]\n",
        "\n",
        "    x_train = torch.tensor(data = X_train).float()\n",
        "    y_train = torch.tensor(data = Y_train).float()\n",
        "\n",
        "    x_val = torch.tensor(data = X_val).float()\n",
        "    y_val = torch.tensor(data = Y_val).float()\n",
        "\n",
        "    x_test = torch.tensor(data = X_test).float()\n",
        "    y_test = torch.tensor(data = Y_test).float()\n",
        "\n",
        "    return x_train, x_val, x_test,\\\n",
        "           y_train.squeeze(1), y_val.squeeze(1), y_test.squeeze(1)"
      ]
    },
    {
      "cell_type": "code",
      "execution_count": 46,
      "metadata": {
        "colab": {
          "base_uri": "https://localhost:8080/"
        },
        "id": "bGIxRTgFTF4-",
        "outputId": "7cb64d65-458f-4dd1-901d-23daf154f01b"
      },
      "outputs": [
        {
          "name": "stderr",
          "output_type": "stream",
          "text": [
            "C:\\Users\\Frostens\\AppData\\Local\\Temp\\ipykernel_7760\\3469415071.py:11: FutureWarning: Support for nested sequences for 'parse_dates' in pd.read_csv is deprecated. Combine the desired columns with pd.to_datetime after parsing instead.\n",
            "  df = pd.read_csv(\"household_power_consumption.txt\", sep=\";\", na_values=[\"?\"], parse_dates=[[0,1]], dayfirst=True)\n",
            "C:\\Users\\Frostens\\AppData\\Local\\Temp\\ipykernel_7760\\3469415071.py:14: FutureWarning: 'H' is deprecated and will be removed in a future version, please use 'h' instead.\n",
            "  df = df.resample('H').mean()  # Agrégation en fréquence horaire\n"
          ]
        },
        {
          "name": "stdout",
          "output_type": "stream",
          "text": [
            "Train: torch.Size([27632, 24, 7]), Val: torch.Size([3454, 24, 7]), Test: torch.Size([3455, 24, 7])\n"
          ]
        }
      ],
      "source": [
        "import numpy as np\n",
        "import pandas as pd\n",
        "import torch\n",
        "import torch.nn as nn\n",
        "import torch.optim as optim\n",
        "from sklearn.preprocessing import MinMaxScaler\n",
        "import matplotlib.pyplot as plt\n",
        "import copy\n",
        "\n",
        "# Chargement des données\n",
        "df = pd.read_csv(\"household_power_consumption.txt\", sep=\";\", na_values=[\"?\"], parse_dates=[[0,1]], dayfirst=True)\n",
        "df.rename(columns={'Date_Time': 'datetime'}, inplace=True)\n",
        "df.set_index('datetime', inplace=True)\n",
        "df = df.resample('H').mean()  # Agrégation en fréquence horaire\n",
        "df.interpolate(method='time', inplace=True)  # Remplissage des valeurs manquantes\n",
        "\n",
        "# Sélection des colonnes utiles\n",
        "features = ['Global_active_power', 'Global_reactive_power', 'Voltage', 'Global_intensity', \n",
        "            'Sub_metering_1', 'Sub_metering_2', 'Sub_metering_3']\n",
        "\n",
        "# Normalisation MinMax\n",
        "scaler = MinMaxScaler()\n",
        "scaled_data = scaler.fit_transform(df[features])\n",
        "\n",
        "# Création des séquences temporelles pour LSTM\n",
        "def create_sequences(data, seq_length):\n",
        "    X, y = [], []\n",
        "    for i in range(len(data) - seq_length - 24):  # On prédit à +24h\n",
        "        X.append(data[i:i+seq_length])\n",
        "        y.append(data[i+seq_length+24, 0])  # Prédiction du \"Global_active_power\"\n",
        "    return np.array(X), np.array(y)\n",
        "\n",
        "SEQ_LENGTH = 24  # On utilise les dernières 24 heures pour prédire\n",
        "X, y = create_sequences(scaled_data, SEQ_LENGTH)\n",
        "\n",
        "# Séparation en train (80%), validation (10%), test (10%)\n",
        "train_size = int(0.8 * len(X))\n",
        "val_size = int(0.1 * len(X))\n",
        "\n",
        "X_train, X_val, X_test = X[:train_size], X[train_size:train_size+val_size], X[train_size+val_size:]\n",
        "y_train, y_val, y_test = y[:train_size], y[train_size:train_size+val_size], y[train_size+val_size:]\n",
        "\n",
        "# Conversion en tenseurs PyTorch\n",
        "X_train = torch.tensor(X_train, dtype=torch.float32)\n",
        "y_train = torch.tensor(y_train, dtype=torch.float32).unsqueeze(1)\n",
        "X_val = torch.tensor(X_val, dtype=torch.float32)\n",
        "y_val = torch.tensor(y_val, dtype=torch.float32).unsqueeze(1)\n",
        "X_test = torch.tensor(X_test, dtype=torch.float32)\n",
        "y_test = torch.tensor(y_test, dtype=torch.float32).unsqueeze(1)\n",
        "\n",
        "print(f\"Train: {X_train.shape}, Val: {X_val.shape}, Test: {X_test.shape}\")\n"
      ]
    },
    {
      "cell_type": "code",
      "execution_count": 47,
      "metadata": {},
      "outputs": [],
      "source": [
        "class LSTM(nn.Module):\n",
        "    def __init__(self, input_size, hidden_size, num_layers=1):\n",
        "        super(LSTM, self).__init__()\n",
        "        self.hidden_size = hidden_size\n",
        "        self.num_layers = num_layers\n",
        "        \n",
        "        self.lstm = nn.LSTM(input_size, hidden_size, num_layers, batch_first=True)\n",
        "        self.fc = nn.Linear(hidden_size, 1)  # Prédiction finale\n",
        "\n",
        "    def forward(self, x):\n",
        "        h0 = torch.zeros(self.num_layers, x.size(0), self.hidden_size).to(x.device)\n",
        "        c0 = torch.zeros(self.num_layers, x.size(0), self.hidden_size).to(x.device)\n",
        "\n",
        "        out, _ = self.lstm(x, (h0, c0))\n",
        "        out = self.fc(out[:, -1, :])  # Prendre seulement la dernière sortie\n",
        "        return out"
      ]
    },
    {
      "cell_type": "code",
      "execution_count": 48,
      "metadata": {},
      "outputs": [
        {
          "name": "stdout",
          "output_type": "stream",
          "text": [
            "Epoch 0: Train Loss = 0.0996, Val Loss = 0.0743\n",
            "Epoch 10: Train Loss = 0.0206, Val Loss = 0.0165\n",
            "Epoch 20: Train Loss = 0.0204, Val Loss = 0.0127\n",
            "Epoch 30: Train Loss = 0.0211, Val Loss = 0.0130\n",
            "Epoch 40: Train Loss = 0.0203, Val Loss = 0.0131\n"
          ]
        },
        {
          "data": {
            "text/plain": [
              "LSTM(\n",
              "  (lstm): LSTM(7, 64, num_layers=2, batch_first=True)\n",
              "  (fc): Linear(in_features=64, out_features=1, bias=True)\n",
              ")"
            ]
          },
          "execution_count": 48,
          "metadata": {},
          "output_type": "execute_result"
        }
      ],
      "source": [
        "# Paramètres\n",
        "hidden_size = 64\n",
        "num_layers = 2\n",
        "learning_rate = 0.001\n",
        "num_epochs = 50\n",
        "\n",
        "device = torch.device(\"cuda\" if torch.cuda.is_available() else \"cpu\")\n",
        "\n",
        "# Initialisation du modèle\n",
        "model = LSTM(input_size=len(features), hidden_size=hidden_size, num_layers=num_layers).to(device)\n",
        "optimizer = optim.Adam(model.parameters(), lr=learning_rate)\n",
        "criterion = nn.MSELoss()\n",
        "\n",
        "# Entraînement\n",
        "best_model = None\n",
        "min_val_loss = float('inf')\n",
        "\n",
        "train_losses = []\n",
        "val_losses = []\n",
        "\n",
        "for epoch in range(num_epochs):\n",
        "    model.train()\n",
        "    optimizer.zero_grad()\n",
        "    \n",
        "    # Forward\n",
        "    y_pred = model(X_train.to(device))\n",
        "    loss = criterion(y_pred, y_train.to(device))\n",
        "\n",
        "    # Backward\n",
        "    loss.backward()\n",
        "    optimizer.step()\n",
        "\n",
        "    # Validation\n",
        "    model.eval()\n",
        "    with torch.no_grad():\n",
        "        val_pred = model(X_val.to(device))\n",
        "        val_loss = criterion(val_pred, y_val.to(device))\n",
        "\n",
        "    train_losses.append(loss.item())\n",
        "    val_losses.append(val_loss.item())\n",
        "\n",
        "    # Sauvegarde du meilleur modèle\n",
        "    if val_loss.item() < min_val_loss:\n",
        "        best_model = copy.deepcopy(model)\n",
        "        min_val_loss = val_loss.item()\n",
        "\n",
        "    if epoch % 10 == 0:\n",
        "        print(f\"Epoch {epoch}: Train Loss = {loss.item():.4f}, Val Loss = {val_loss.item():.4f}\")\n",
        "\n",
        "# Utilisation du meilleur modèle\n",
        "model = best_model\n",
        "model.eval()\n"
      ]
    },
    {
      "cell_type": "code",
      "execution_count": 49,
      "metadata": {},
      "outputs": [
        {
          "data": {
            "image/png": "[encoded data removed]",
            "text/plain": [
              "<Figure size 1200x500 with 1 Axes>"
            ]
          },
          "metadata": {},
          "output_type": "display_data"
        }
      ],
      "source": [
        "# Prédiction sur le test set\n",
        "with torch.no_grad():\n",
        "    y_pred_test = model(X_test.to(device))\n",
        "\n",
        "# Conversion en numpy pour visualisation\n",
        "y_pred_test = y_pred_test.cpu().numpy()\n",
        "y_test_np = y_test.cpu().numpy()\n",
        "\n",
        "# Re-scaling des valeurs prédites\n",
        "y_pred_test = scaler.inverse_transform(np.concatenate((y_pred_test, np.zeros((y_pred_test.shape[0], len(features) - 1))), axis=1))[:, 0]\n",
        "y_test_np = scaler.inverse_transform(np.concatenate((y_test_np, np.zeros((y_test_np.shape[0], len(features) - 1))), axis=1))[:, 0]\n",
        "\n",
        "# Affichage des résultats\n",
        "plt.figure(figsize=(12,5))\n",
        "plt.plot(y_test_np, label=\"Vraie consommation\", color=\"blue\")\n",
        "plt.plot(y_pred_test, label=\"Prédiction LSTM\", color=\"red\", linestyle=\"dashed\")\n",
        "plt.xlabel(\"Temps (heures)\")\n",
        "plt.ylabel(\"Consommation (kW)\")\n",
        "plt.title(\"Prédiction de la consommation électrique avec LSTM\")\n",
        "plt.legend()\n",
        "plt.show()"
      ]
    }
  ],
  "metadata": {
    "colab": {
      "provenance": []
    },
    "kernelspec": {
      "display_name": "Python 3",
      "name": "python3"
    },
    "language_info": {
      "codemirror_mode": {
        "name": "ipython",
        "version": 3
      },
      "file_extension": ".py",
      "mimetype": "text/x-python",
      "name": "python",
      "nbconvert_exporter": "python",
      "pygments_lexer": "ipython3",
      "version": "3.10.0"
    }
  },
  "nbformat": 4,
  "nbformat_minor": 0
}
